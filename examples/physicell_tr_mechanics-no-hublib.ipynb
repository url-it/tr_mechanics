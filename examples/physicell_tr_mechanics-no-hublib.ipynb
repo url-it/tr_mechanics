{
  "cells": [
    {
      "cell_type": "code",
      "execution_count": null,
      "metadata": {
        "id": "qFHYfQ96W0-Z"
      },
      "outputs": [],
      "source": [
        "!git clone https://github.com/url-it/tr_mechanics.git"
      ]
    },
    {
      "cell_type": "code",
      "execution_count": null,
      "metadata": {
        "id": "o9yARgrDX8Hx"
      },
      "outputs": [],
      "source": [
        "cd tr_mechanics"
      ]
    },
    {
      "cell_type": "code",
      "execution_count": null,
      "metadata": {
        "id": "W9AIiM01X_Ei"
      },
      "outputs": [],
      "source": [
        "cd src"
      ]
    },
    {
      "cell_type": "code",
      "execution_count": null,
      "metadata": {
        "id": "p935LemvYcLO"
      },
      "outputs": [],
      "source": [
        "!make"
      ]
    },
    {
      "cell_type": "code",
      "execution_count": null,
      "metadata": {
        "id": "1wM2ty_IYsuR"
      },
      "outputs": [],
      "source": [
        "cp myproj ../bin/"
      ]
    },
    {
      "cell_type": "code",
      "execution_count": null,
      "metadata": {
        "id": "SNsSGKP9Y9-k"
      },
      "outputs": [],
      "source": [
        "cd .."
      ]
    },
    {
      "cell_type": "code",
      "execution_count": null,
      "metadata": {
        "id": "Qa0qoTmvZCxb"
      },
      "outputs": [],
      "source": [
        "%matplotlib inline"
      ]
    },
    {
      "cell_type": "code",
      "execution_count": null,
      "metadata": {
        "id": "OJqeiNVCZHAj"
      },
      "outputs": [],
      "source": [
        "import sys, os"
      ]
    },
    {
      "cell_type": "code",
      "execution_count": null,
      "metadata": {
        "id": "eNoIqKwuWxLG"
      },
      "outputs": [],
      "source": [
        "sys.path.insert(0, os.path.abspath('bin'))"
      ]
    },
    {
      "cell_type": "code",
      "execution_count": null,
      "metadata": {
        "id": "ps5CTWkjVAxs"
      },
      "outputs": [],
      "source": [
        "# pip install -U --upgrade-strategy only-if-needed hublib"
      ]
    },
    {
      "cell_type": "code",
      "execution_count": null,
      "metadata": {
        "id": "EDQarANEZKuQ"
      },
      "outputs": [],
      "source": [
        "import tr_mechanics"
      ]
    },
    {
      "cell_type": "code",
      "execution_count": null,
      "metadata": {
        "collapsed": true,
        "id": "wCDrGRZcZndv"
      },
      "outputs": [],
      "source": [
        "tr_mechanics.gui"
      ]
    }
  ],
  "metadata": {
    "colab": {
      "provenance": []
    },
    "kernelspec": {
      "display_name": "Python 3",
      "name": "python3"
    },
    "language_info": {
      "name": "python"
    }
  },
  "nbformat": 4,
  "nbformat_minor": 0
}
