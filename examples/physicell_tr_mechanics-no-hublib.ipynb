{
  "cells": [
    {
      "cell_type": "code",
      "execution_count": null,
      "metadata": {
        "id": "qFHYfQ96W0-Z"
      },
      "outputs": [],
      "source": [
        "!git clone https://github.com/url-it/tr_mechanics.git\n",
        "import os, sys\n",
        "os.chdir('tr_mechanics')\n",
        "sys.path.insert(0, os.path.abspath('bin'))\n",
        "import tr_mechanics\n",
        "tr_mechanics.gui"
      ]
    }
  ],
  "metadata": {
    "colab": {
      "provenance": []
    },
    "kernelspec": {
      "display_name": "Python 3",
      "name": "python3"
    },
    "language_info": {
      "name": "python"
    }
  },
  "nbformat": 4,
  "nbformat_minor": 0
}
