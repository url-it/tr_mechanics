{
  "nbformat": 4,
  "nbformat_minor": 0,
  "metadata": {
    "colab": {
      "provenance": []
    },
    "kernelspec": {
      "name": "python3",
      "display_name": "Python 3"
    },
    "language_info": {
      "name": "python"
    }
  },
  "cells": [
    {
      "cell_type": "code",
      "source": [
        "# library\n",
        "import os\n",
        "\n",
        "# const\n",
        "home = '/content'\n",
        "\n",
        "# install\n",
        "os.chdir(home)\n",
        "if not os.path.exists('tr_mechanics'):\n",
        "    os.system('git clone https://github.com/rheiland/tr_mechanics.git')\n",
        "\n",
        "# run\n",
        "from tr_mechanics import run_on_colab\n",
        "gui = run_on_colab.go(home)\n",
        "gui"
      ],
      "metadata": {
        "id": "qFHYfQ96W0-Z"
      },
      "execution_count": null,
      "outputs": []
    },
    {
      "cell_type": "code",
      "source": [],
      "metadata": {
        "id": "O7Oz29FJcmPS"
      },
      "execution_count": null,
      "outputs": []
    }
  ]
}
